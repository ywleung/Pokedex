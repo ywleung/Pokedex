{
 "cells": [
  {
   "cell_type": "code",
   "execution_count": null,
   "metadata": {},
   "outputs": [],
   "source": [
    "import cv2\n",
    "import math\n",
    "import os"
   ]
  },
  {
   "cell_type": "code",
   "execution_count": null,
   "metadata": {},
   "outputs": [],
   "source": [
    "def preprocess_image(input_path, target_size):\n",
    "    file_list = os.listdir(input_path)\n",
    "    for file in file_list:\n",
    "        print('processing file:', file)\n",
    "        file_path = input_path+'/'+file\n",
    "        image_list = os.listdir(file_path)\n",
    "        for i in range(len(image_list)):\n",
    "            image_path = file_path+'/'+image_list[i]\n",
    "            image = cv2.imread(image_path)\n",
    "            width, height, channel = image.shape\n",
    "            \n",
    "            # crop the image\n",
    "            if width < height:\n",
    "                crop_len = math.floor((height-width) / 2)\n",
    "                image_new = image[:, crop_len:crop_len+width, :]\n",
    "            else:\n",
    "                crop_len = math.floor((width-height) / 2)\n",
    "                image_new = image[crop_len:crop_len+height, :, :]\n",
    "                \n",
    "            # resize to target_size\n",
    "            image_new = cv2.resize(image_new, (target_size, target_size))\n",
    "            new_image_name = image_path\n",
    "            cv2.imwrite(new_image_name, image_new)"
   ]
  },
  {
   "cell_type": "code",
   "execution_count": null,
   "metadata": {},
   "outputs": [],
   "source": [
    "# def edge_image(input_path, threshold1, threshold2):\n",
    "#     file_list = os.listdir(input_path)\n",
    "#     for file in file_list:\n",
    "#         print('processing file:', file)\n",
    "#         file_path = input_path+'/'+file\n",
    "#         image_list = os.listdir(file_path)\n",
    "#         for image in image_list:\n",
    "#             image_path = file_path+'/'+image\n",
    "#             image = cv2.imread(image_path)\n",
    "#             edge = cv2.Canny(image, threshold1, threshold2)\n",
    "            \n",
    "#             new_image_name = image_path\n",
    "#             cv2.imwrite(new_image_name, edge)"
   ]
  },
  {
   "cell_type": "code",
   "execution_count": null,
   "metadata": {},
   "outputs": [],
   "source": [
    "# convert image\n",
    "input_path = ''\n",
    "target_size = 256\n",
    "preprocess_image(input_path, target_size)"
   ]
  },
  {
   "cell_type": "code",
   "execution_count": null,
   "metadata": {},
   "outputs": [],
   "source": []
  }
 ],
 "metadata": {
  "kernelspec": {
   "display_name": "Python 3",
   "language": "python",
   "name": "python3"
  },
  "language_info": {
   "codemirror_mode": {
    "name": "ipython",
    "version": 3
   },
   "file_extension": ".py",
   "mimetype": "text/x-python",
   "name": "python",
   "nbconvert_exporter": "python",
   "pygments_lexer": "ipython3",
   "version": "3.6.5"
  }
 },
 "nbformat": 4,
 "nbformat_minor": 2
}
